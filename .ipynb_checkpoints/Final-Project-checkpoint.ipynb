{
 "cells": [
  {
   "cell_type": "code",
   "execution_count": null,
   "metadata": {
    "collapsed": true
   },
   "outputs": [],
   "source": [
    "#To Do List:\n",
    "#What does the application have to do?\n",
    "#  1. Request Import (Ingrediants) from User\n",
    "#  2. \n"
   ]
  },
  {
   "cell_type": "code",
   "execution_count": 8,
   "metadata": {
    "collapsed": false,
    "scrolled": true
   },
   "outputs": [
    {
     "name": "stdout",
     "output_type": "stream",
     "text": [
      "Hi, Welcome to College Cabinet!\n",
      "Please Enter an Ingredient (Type Done When Finished): Shrimp\n",
      "Please Enter an Ingredient (Type Done When Finished): Bread Crumbs\n",
      "Please Enter an Ingredient (Type Done When Finished): Eggs\n",
      "Please Enter an Ingredient (Type Done When Finished): Salt\n",
      "Please Enter an Ingredient (Type Done When Finished): Pepper\n",
      "Please Enter an Ingredient (Type Done When Finished): done\n",
      "Ingredient List: Shrimp,Bread Crumbs,Eggs,Salt,Pepper\n",
      "[{'likes': 0, 'title': 'Coconut Shrimp', 'imageType': 'jpg', 'usedIngredientCount': 5, 'missedIngredientCount': 0, 'image': 'https://spoonacular.com/recipeImages/coconut-shrimp-2-5229.jpg', 'id': 5229}, {'likes': 1, 'title': 'Crispy Oven Baked Prawns', 'imageType': 'jpg', 'usedIngredientCount': 5, 'missedIngredientCount': 0, 'image': 'https://spoonacular.com/recipeImages/Crispy-Oven-Baked-Prawns-568146.jpg', 'id': 568146}, {'likes': 6, 'title': 'Coconut Shrimp', 'imageType': 'jpg', 'usedIngredientCount': 5, 'missedIngredientCount': 0, 'image': 'https://spoonacular.com/recipeImages/Coconut-Shrimp-605584.jpg', 'id': 605584}, {'likes': 29, 'title': 'Coconut Shrimp', 'imageType': 'jpg', 'usedIngredientCount': 5, 'missedIngredientCount': 0, 'image': 'https://spoonacular.com/recipeImages/coconut-shrimp-719453.jpg', 'id': 719453}, {'likes': 33, 'title': 'Crunchy Fried Shrimp', 'imageType': 'jpg', 'usedIngredientCount': 5, 'missedIngredientCount': 0, 'image': 'https://spoonacular.com/recipeImages/Crunchy-Fried-Shrimp-336750.jpg', 'id': 336750}]\n",
      "Please Enter the ID Number of the Recipe Requested: 336750\n"
     ]
    },
    {
     "data": {
      "text/plain": [
       "True"
      ]
     },
     "execution_count": 8,
     "metadata": {},
     "output_type": "execute_result"
    }
   ],
   "source": [
    "#This is where we will code our final project:\n",
    "import requests\n",
    "import json\n",
    "from IPython.display import Image\n",
    "from IPython.core.display import HTML \n",
    "import webbrowser\n",
    "\n",
    "#Introductory Message\n",
    "print(\"Hi, Welcome to College Cabinet!\")\n",
    "\n",
    "#Function to add ingredients to list to later be added to ingredient_search api\n",
    "def list_creator():\n",
    "    ingredient_list = []\n",
    "    while True:\n",
    "        ingredient = input(\"Please Enter an Ingredient (Type Done When Finished): \").title()\n",
    "        if ingredient in ingredient_list:\n",
    "            ingredient_list.remove(ingredient)\n",
    "            print (\"That Ingredient Was Already Entered!\")\n",
    "        if ingredient == \"Done\":\n",
    "            print(\"Ingredient List: %s\" %(user_list))\n",
    "            break\n",
    "        else:\n",
    "            ingredient_list.append(ingredient)\n",
    "            #print(\"Ingredient List: %s\" %(ingredient_list))\n",
    "        user_list = ','.join(ingredient_list)\n",
    "    return user_list\n",
    "\n",
    "def ingredient_search():\n",
    "    #Ingredient API URL\n",
    "    ingredient_api = 'https://spoonacular-recipe-food-nutrition-v1.p.mashape.com/recipes/findByIngredients'\n",
    "    #Requested Header in Dictionary \n",
    "    headers = {'X-Mashape-Key': '6w62jm09yhmshHLPaVVwcOGSqwX6p1roAENjsn0zxkvvt8RLSi'}\n",
    "\n",
    "    ingredient = list_creator()\n",
    "    options = { 'ingredients' : ingredient, 'fillIngredients': False, 'limitLicense': False, 'number': 5, 'ranking': 1}\n",
    "    response = requests.get(ingredient_api, params = options, headers = headers)\n",
    "    results = response.json()\n",
    "    return results\n",
    "\n",
    "\n",
    "def recipe_info():\n",
    "    #Ingredient API URL\n",
    "    id_number = input('Please Enter the ID Number of the Recipe Requested: ')\n",
    "    api = 'https://spoonacular-recipe-food-nutrition-v1.p.mashape.com/recipes/%s/information' % (id_number)\n",
    "    #Requested Header in Dictionary \n",
    "    headers = {'X-Mashape-Key': '6w62jm09yhmshHLPaVVwcOGSqwX6p1roAENjsn0zxkvvt8RLSi'}\n",
    "    \n",
    "    options = {'includeNutrition': False}\n",
    "    response = requests.get(api, params = options, headers = headers)\n",
    "    results = response.json()\n",
    "    return  webbrowser.open(results['sourceUrl'])\n",
    "\n",
    "\n",
    "\n",
    "\n",
    "print(ingredient_search())\n",
    "recipe_info()\n",
    "\n",
    "        \n",
    "        \n",
    "        \n",
    "        \n"
   ]
  },
  {
   "cell_type": "code",
   "execution_count": null,
   "metadata": {
    "collapsed": true
   },
   "outputs": [],
   "source": [
    "Image(url= results[0]['image']),"
   ]
  }
 ],
 "metadata": {
  "kernelspec": {
   "display_name": "Python 3",
   "language": "python",
   "name": "python3"
  }
 },
 "nbformat": 4,
 "nbformat_minor": 2
}
