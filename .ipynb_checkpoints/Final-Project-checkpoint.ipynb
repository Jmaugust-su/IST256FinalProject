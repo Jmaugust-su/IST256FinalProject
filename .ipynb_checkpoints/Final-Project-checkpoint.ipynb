{
 "cells": [
  {
   "cell_type": "code",
   "execution_count": null,
   "metadata": {
    "collapsed": true
   },
   "outputs": [],
   "source": [
    "#To Do List:\n",
    "#What does the application have to do?\n",
    "#  1. Request Import (Ingrediants) from User\n",
    "#  2. \n"
   ]
  },
  {
   "cell_type": "code",
   "execution_count": null,
   "metadata": {
    "collapsed": false,
    "scrolled": false
   },
   "outputs": [
    {
     "name": "stdout",
     "output_type": "stream",
     "text": [
      "Welcome to College Cabinet! The Program that Makes Finding Recipes Much Easier!\n",
      "Please Enter an Ingredient (Type Done When Finished): Milk\n",
      "Please Enter an Ingredient (Type Done When Finished): Done\n",
      "Ingredient list: Milk \n",
      "\n",
      "Recipe Number: 0\n"
     ]
    },
    {
     "data": {
      "text/html": [
       "<img src=\"https://spoonacular.com/recipeImages/fried-chicken-with-gravy-156767.jpg\"/>"
      ],
      "text/plain": [
       "<IPython.core.display.Image object>"
      ]
     },
     "metadata": {},
     "output_type": "display_data"
    },
    {
     "name": "stdout",
     "output_type": "stream",
     "text": [
      "Recipe Name: Fried Chicken with Gravy \n",
      "Total Ingredients Used: 1 \n",
      "People Who Like This Recipe: 0 \n",
      "\n",
      "Recipe Number: 1\n"
     ]
    },
    {
     "data": {
      "text/html": [
       "<img src=\"https://spoonacular.com/recipeImages/engagement-ring-mini-cupcakes-174912.jpg\"/>"
      ],
      "text/plain": [
       "<IPython.core.display.Image object>"
      ]
     },
     "metadata": {},
     "output_type": "display_data"
    },
    {
     "name": "stdout",
     "output_type": "stream",
     "text": [
      "Recipe Name: Engagement Ring Mini Cupcakes \n",
      "Total Ingredients Used: 1 \n",
      "People Who Like This Recipe: 0 \n",
      "\n",
      "Recipe Number: 2\n"
     ]
    },
    {
     "data": {
      "text/html": [
       "<img src=\"https://spoonacular.com/recipeImages/wholesome-carrot-muffins-863220.jpg\"/>"
      ],
      "text/plain": [
       "<IPython.core.display.Image object>"
      ]
     },
     "metadata": {},
     "output_type": "display_data"
    },
    {
     "name": "stdout",
     "output_type": "stream",
     "text": [
      "Recipe Name: Wholesome Carrot Muffins \n",
      "Total Ingredients Used: 1 \n",
      "People Who Like This Recipe: 0 \n",
      "\n",
      "Recipe Number: 3\n"
     ]
    },
    {
     "data": {
      "text/html": [
       "<img src=\"https://spoonacular.com/recipeImages/clean-eating-irish-soda-bread-870560.jpg\"/>"
      ],
      "text/plain": [
       "<IPython.core.display.Image object>"
      ]
     },
     "metadata": {},
     "output_type": "display_data"
    },
    {
     "name": "stdout",
     "output_type": "stream",
     "text": [
      "Recipe Name: Clean Eating Irish Soda Bread \n",
      "Total Ingredients Used: 1 \n",
      "People Who Like This Recipe: 0 \n",
      "\n",
      "Recipe Number: 4\n"
     ]
    },
    {
     "data": {
      "text/html": [
       "<img src=\"https://spoonacular.com/recipeImages/bchamel-sauce-216387.jpg\"/>"
      ],
      "text/plain": [
       "<IPython.core.display.Image object>"
      ]
     },
     "metadata": {},
     "output_type": "display_data"
    },
    {
     "name": "stdout",
     "output_type": "stream",
     "text": [
      "Recipe Name: Béchamel Sauce \n",
      "Total Ingredients Used: 1 \n",
      "People Who Like This Recipe: 0 \n",
      "\n"
     ]
    }
   ],
   "source": [
    "#This is where we will code our final project:\n",
    "import requests\n",
    "import json\n",
    "from IPython.display import Image\n",
    "from IPython.core.display import HTML \n",
    "import webbrowser\n",
    "\n",
    "\n",
    "############################################# Function Junction: #####################################################\n",
    "\n",
    "#Function to add ingredients to list to later be added to ingredient_search api\n",
    "#Ken and Khadija created this function\n",
    "def list_creator():\n",
    "    while True:\n",
    "        ingredient = input(\"Please Enter an Ingredient (Type Done When Finished): \").title()\n",
    "        if ingredient.isnumeric():\n",
    "            print(\"That is a number not an ingredient, silly!\")\n",
    "        if ingredient == \"Done\":\n",
    "            print(\"Ingredient list: %s\" %(user_list), '\\n')\n",
    "            break\n",
    "        if ingredient not in ingredient_list:\n",
    "            ingredient_list.append(ingredient)\n",
    "        else:\n",
    "            print (\"How many times are you going to enter that? Try something else!\")\n",
    "        user_list = ','.join(ingredient_list) #Ediliza figured this part out\n",
    "    return user_list\n",
    "\n",
    "#Function that utilizes Spoonacular API and inputs the user_list into the parameters to return 5 viable recipes\n",
    "def ingredient_search(food):\n",
    "    #Ingredient API URL\n",
    "    ingredient_api = 'https://spoonacular-recipe-food-nutrition-v1.p.mashape.com/recipes/findByIngredients'\n",
    "    #Requested Header in Dictionary \n",
    "    headers = {'X-Mashape-Key': 'dV3FBPTSHtmsh0Vya3m4zYfOPfKLp18ZHF6jsnxzHcQv7IUZsx'}\n",
    "\n",
    "    ingredient = food\n",
    "    options = { 'ingredients' : ingredient, 'fillIngredients': False, 'limitLicense': False, 'number': 5, 'ranking': 2}\n",
    "    response = requests.get(ingredient_api, params = options, headers = headers)\n",
    "    results = response.json()    \n",
    "    return results\n",
    "\n",
    "def extract_info(recipe_list):\n",
    "    cookbook = []\n",
    "    for item in recipe_list:\n",
    "        cookbook.append({\"title\": item['title'], \"id\":  item['id'], \n",
    "                       'ui': item['usedIngredientCount'], 'likes': item[\"likes\"], 'image': item[\"image\"]})\n",
    "    return cookbook       \n",
    "\n",
    "#User Chooses 1 of 5 Recipes and inputs the ID # in order to get the Recipe Website\n",
    "def recipe_info(id_number):\n",
    "    #Recipe API URL\n",
    "    api = 'https://spoonacular-recipe-food-nutrition-v1.p.mashape.com/recipes/%s/information' % (id_number)\n",
    "    #Requested Header in Dictionary \n",
    "    headers = {'X-Mashape-Key': 'dV3FBPTSHtmsh0Vya3m4zYfOPfKLp18ZHF6jsnxzHcQv7IUZsx'}\n",
    "    \n",
    "    options = {'includeNutrition': False}\n",
    "    response = requests.get(api, params = options, headers = headers)\n",
    "    results = response.json()\n",
    "    return results\n",
    "\n",
    "def extract_url(chosen_recipe):\n",
    "    url = chosen_recipe['sourceUrl']\n",
    "    return webbrowser.open(url)\n",
    "\n",
    "\n",
    "#######################################Our Main Program Goes Here: #################################################\n",
    "ingredient_list = []\n",
    "\n",
    "print(\"Welcome to College Cabinet! The Program that Makes Finding Recipes Much Easier!\")\n",
    "\n",
    "cabinet = list_creator()\n",
    "recipes = ingredient_search(cabinet)\n",
    "recipe_book = extract_info(recipes)\n",
    "for index, recipe in enumerate(recipe_book):\n",
    "    print('Recipe Number:', index)\n",
    "    from IPython.core.display import Image, display\n",
    "    display(Image(url=recipe['image']))\n",
    "    print('Recipe Name:', recipe['title'],  \n",
    "          '\\nTotal Ingredients Used:', recipe['ui'], \n",
    "          '\\nPeople Who Like This Recipe:', recipe['likes'], '\\n')\n",
    "#Ken Created the Try Except Statements and Loop\n",
    "while True:\n",
    "    try:\n",
    "        recipe_number = input('Pick the recipe number that sounds good and enter it here- we will open the web page for you!: ')\n",
    "        chosen_recipe = recipe_book[int(recipe_number)]\n",
    "        chosen_recipe\n",
    "        id_number = chosen_recipe['id']\n",
    "        recipe_data = recipe_info(id_number)\n",
    "        final_recipe = extract_url(recipe_data)\n",
    "        final_recipe\n",
    "        break\n",
    "    except ValueError:\n",
    "        print(\"That is not a Recipe Number!\")\n",
    "    except IndexError:\n",
    "        print(\"That is not a Recipe Number!\")\n",
    "       \n"
   ]
  },
  {
   "cell_type": "raw",
   "metadata": {},
   "source": []
  },
  {
   "cell_type": "raw",
   "metadata": {
    "collapsed": true
   },
   "source": [
    "#def write_csv(filename, RecipesList):\n",
    "    # take dictionaries and create a csv\n",
    "#    with open(filename, 'w', newline='') as csvfile:\n",
    "#        fieldnames = ['name', 'title', 'email']\n",
    "#        writer = csv.DictWriter(csvfile, fieldnames=fieldnames)\n",
    "#        writer.writeheader()\n",
    "#        for Recipe in RecipesList:\n",
    "#            writer.writerow(Recipe)\n",
    "#    return \"success\"\n",
    "\n"
   ]
  }
 ],
 "metadata": {
  "kernelspec": {
   "display_name": "Python 3",
   "language": "python",
   "name": "python3"
  }
 },
 "nbformat": 4,
 "nbformat_minor": 2
}
