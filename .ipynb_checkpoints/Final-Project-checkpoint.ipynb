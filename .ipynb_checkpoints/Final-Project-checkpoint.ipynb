{
 "cells": [
  {
   "cell_type": "code",
   "execution_count": null,
   "metadata": {
    "collapsed": true
   },
   "outputs": [],
   "source": [
    "#To Do List:\n",
    "#What does the application have to do?\n",
    "#  1. Request Import (Ingrediants) from User\n",
    "#  2. \n"
   ]
  },
  {
   "cell_type": "code",
   "execution_count": 1,
   "metadata": {
    "collapsed": false,
    "scrolled": true
   },
   "outputs": [
    {
     "name": "stdout",
     "output_type": "stream",
     "text": [
      "Hi, Welcome to College Cabinet!\n",
      "Please Enter an Ingredient (Type Done When Finished): Milk\n",
      "Please Enter an Ingredient (Type Done When Finished): Bread\n",
      "Please Enter an Ingredient (Type Done When Finished): Butter\n",
      "Please Enter an Ingredient (Type Done When Finished): Eggs\n",
      "Please Enter an Ingredient (Type Done When Finished): Done\n",
      "Ingredient List: Milk,Bread,Butter,Eggs \n",
      "\n",
      "0\n",
      "Recipe Name: French Toasted Egg In a Hole \n",
      "Total Ingredients Used: 4 \n",
      "Missing Ingredients Needed: 0 \n",
      "\n",
      "1\n",
      "Recipe Name: Spanish French Toast (torrijas) \n",
      "Total Ingredients Used: 4 \n",
      "Missing Ingredients Needed: 0 \n",
      "\n",
      "2\n",
      "Recipe Name: Goldenrod Eggs \n",
      "Total Ingredients Used: 4 \n",
      "Missing Ingredients Needed: 0 \n",
      "\n",
      "3\n",
      "Recipe Name: Creamed Eggs On Toast \n",
      "Total Ingredients Used: 4 \n",
      "Missing Ingredients Needed: 0 \n",
      "\n",
      "4\n",
      "Recipe Name: Special Pancakes (Batter Cakes) \n",
      "Total Ingredients Used: 4 \n",
      "Missing Ingredients Needed: 0 \n",
      "\n",
      "Please Enter the Recipe Number of the Recipe Requested: 4\n"
     ]
    },
    {
     "data": {
      "text/plain": [
       "'http://www.food.com/recipe/special-pancakes-batter-cakes-380167'"
      ]
     },
     "execution_count": 1,
     "metadata": {},
     "output_type": "execute_result"
    }
   ],
   "source": [
    "#This is where we will code our final project:\n",
    "import requests\n",
    "import json\n",
    "from IPython.display import Image\n",
    "from IPython.core.display import HTML \n",
    "import webbrowser\n",
    "\n",
    "\n",
    "############################################# Function Junction: #####################################################\n",
    "\n",
    "#Function to add ingredients to list to later be added to ingredient_search api\n",
    "def list_creator():\n",
    "    while True:\n",
    "        ingredient = input(\"Please Enter an Ingredient (Type Done When Finished): \").title()\n",
    "        if ingredient == \"Done\":\n",
    "            print(\"Ingredient List: %s\" %(user_list), '\\n')\n",
    "            break\n",
    "        if ingredient not in ingredient_list:\n",
    "            ingredient_list.append(ingredient)\n",
    "        else:\n",
    "            print (\"That Ingredient Was Already Entered!\")\n",
    "        user_list = ','.join(ingredient_list)\n",
    "    return user_list\n",
    "\n",
    "#Function that utilizes Spoonacular API and inputs the user_list into the parameters to return 5 viable recipes\n",
    "def ingredient_search(food):\n",
    "    #Ingredient API URL\n",
    "    ingredient_api = 'https://spoonacular-recipe-food-nutrition-v1.p.mashape.com/recipes/findByIngredients'\n",
    "    #Requested Header in Dictionary \n",
    "    headers = {'X-Mashape-Key': 'dV3FBPTSHtmsh0Vya3m4zYfOPfKLp18ZHF6jsnxzHcQv7IUZsx'}\n",
    "\n",
    "    ingredient = food\n",
    "    options = { 'ingredients' : ingredient, 'fillIngredients': False, 'limitLicense': False, 'number': 5, 'ranking': 1}\n",
    "    response = requests.get(ingredient_api, params = options, headers = headers)\n",
    "    results = response.json()    \n",
    "    return results\n",
    "\n",
    "def extract_info(recipe_list):\n",
    "    cookbook = []\n",
    "    for item in recipe_list:\n",
    "        cookbook.append({\"title\": item['title'], \"id\":  item['id'], \n",
    "                       'ui': item['usedIngredientCount'], 'mi': item['missedIngredientCount']})\n",
    "    return cookbook\n",
    "    \n",
    "        \n",
    "        \n",
    "\n",
    "#User Chooses 1 of 5 Recipes and inputs the ID # in order to get the Recipe Website\n",
    "def recipe_info(id_number):\n",
    "    #Recipe API URL\n",
    "    api = 'https://spoonacular-recipe-food-nutrition-v1.p.mashape.com/recipes/%s/information' % (id_number)\n",
    "    #Requested Header in Dictionary \n",
    "    headers = {'X-Mashape-Key': 'dV3FBPTSHtmsh0Vya3m4zYfOPfKLp18ZHF6jsnxzHcQv7IUZsx'}\n",
    "    \n",
    "    options = {'includeNutrition': False}\n",
    "    response = requests.get(api, params = options, headers = headers)\n",
    "    results = response.json()\n",
    "    return results\n",
    "#webbrowser.open(results['sourceUrl'])\n",
    "\n",
    "def extract_url(chosen_recipe):\n",
    "    url = chosen_recipe['sourceUrl']\n",
    "    return url\n",
    "\n",
    "\n",
    "#######################################Our Main Program Goes Here: #################################################\n",
    "ingredient_list = []\n",
    "\n",
    "print(\"Hi, Welcome to College Cabinet!\")\n",
    "\n",
    "cabinet = list_creator()\n",
    "recipes = ingredient_search(cabinet)\n",
    "cookbook = extract_info(recipes)\n",
    "for index, recipe in enumerate(cookbook):\n",
    "    print(index)\n",
    "    print('Recipe Name:', recipe['title'],  \n",
    "          '\\nTotal Ingredients Used:', recipe['ui'], \n",
    "          '\\nMissing Ingredients Needed:', recipe['mi'], '\\n')\n",
    "recipe_number = input('Please Enter the Recipe Number of the Recipe Requested: ')\n",
    "chosen_recipe = cookbook[int(recipe_number)]\n",
    "chosen_recipe\n",
    "id_number = chosen_recipe['id']\n",
    "recipe_data = recipe_info(id_number)\n",
    "final_recipe = extract_url(recipe_data)\n",
    "final_recipe\n",
    "\n",
    "\n",
    "        \n",
    "        \n",
    "        \n",
    "        \n"
   ]
  },
  {
   "cell_type": "code",
   "execution_count": null,
   "metadata": {
    "collapsed": true
   },
   "outputs": [],
   "source": [
    "#def write_csv(filename, RecipesList):\n",
    "    # take dictionaries and create a csv\n",
    "#    with open(filename, 'w', newline='') as csvfile:\n",
    "#        fieldnames = ['name', 'title', 'email']\n",
    "#        writer = csv.DictWriter(csvfile, fieldnames=fieldnames)\n",
    "#        writer.writeheader()\n",
    "#        for Recipe in RecipesList:\n",
    "#            writer.writerow(Recipe)\n",
    "#    return \"success\"\n",
    "\n"
   ]
  }
 ],
 "metadata": {
  "kernelspec": {
   "display_name": "Python 3",
   "language": "python",
   "name": "python3"
  },
  "language_info": {
   "codemirror_mode": {
    "name": "ipython",
    "version": 3
   },
   "file_extension": ".py",
   "mimetype": "text/x-python",
   "name": "python",
   "nbconvert_exporter": "python",
   "pygments_lexer": "ipython3",
   "version": "3.5.2"
  }
 },
 "nbformat": 4,
 "nbformat_minor": 2
}
