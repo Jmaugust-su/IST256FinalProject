{
 "cells": [
  {
   "cell_type": "code",
   "execution_count": null,
   "metadata": {
    "collapsed": true
   },
   "outputs": [],
   "source": [
    "#To Do List:\n",
    "#What does the application have to do?\n",
    "#  1. Request Import (Ingrediants) from User\n",
    "#  2. \n"
   ]
  },
  {
   "cell_type": "code",
   "execution_count": 6,
   "metadata": {
    "collapsed": false,
    "scrolled": true
   },
   "outputs": [
    {
     "name": "stdout",
     "output_type": "stream",
     "text": [
      "Hi, Welcome to College Cabinet!\n",
      "Enter an Ingredient (Type Done When Finished): Milk\n",
      "Enter an Ingredient (Type Done When Finished): Bread\n",
      "Enter an Ingredient (Type Done When Finished): Eggs\n",
      "Enter an Ingredient (Type Done When Finished): Salt\n",
      "Enter an Ingredient (Type Done When Finished): Done\n",
      "Ingredient List: Milk,Bread,Eggs,Salt\n"
     ]
    },
    {
     "data": {
      "text/plain": [
       "(<IPython.core.display.Image object>,\n",
       " [{'id': 587183,\n",
       "   'image': 'https://spoonacular.com/recipeImages/Freezer-Turkey-Meatballs-587183.jpg',\n",
       "   'imageType': 'jpg',\n",
       "   'likes': 518,\n",
       "   'missedIngredientCount': 0,\n",
       "   'title': 'Freezer Turkey Meatballs',\n",
       "   'usedIngredientCount': 4},\n",
       "  {'id': 79146,\n",
       "   'image': 'https://spoonacular.com/recipeImages/spanish_french_toast-79146.jpg',\n",
       "   'imageType': 'jpg',\n",
       "   'likes': 0,\n",
       "   'missedIngredientCount': 0,\n",
       "   'title': 'Spanish French Toast (torrijas)',\n",
       "   'usedIngredientCount': 4},\n",
       "  {'id': 91095,\n",
       "   'image': 'https://spoonacular.com/recipeImages/goldenrod-eggs-2-91095.png',\n",
       "   'imageType': 'png',\n",
       "   'likes': 0,\n",
       "   'missedIngredientCount': 0,\n",
       "   'title': 'Goldenrod Eggs',\n",
       "   'usedIngredientCount': 4},\n",
       "  {'id': 629462,\n",
       "   'image': 'https://spoonacular.com/recipeImages/Creamed-Eggs-On-Toast-629462.jpg',\n",
       "   'imageType': 'jpg',\n",
       "   'likes': 32,\n",
       "   'missedIngredientCount': 0,\n",
       "   'title': 'Creamed Eggs On Toast',\n",
       "   'usedIngredientCount': 4},\n",
       "  {'id': 141607,\n",
       "   'image': 'https://spoonacular.com/recipeImages/creamed-eggs-on-toast-2-141607.jpg',\n",
       "   'imageType': 'jpg',\n",
       "   'likes': 1,\n",
       "   'missedIngredientCount': 0,\n",
       "   'title': 'Creamed Eggs on Toast',\n",
       "   'usedIngredientCount': 4}])"
      ]
     },
     "execution_count": 6,
     "metadata": {},
     "output_type": "execute_result"
    }
   ],
   "source": [
    "#This is where we will code our final project:\n",
    "import requests\n",
    "import json\n",
    "from IPython.display import Image\n",
    "from IPython.core.display import HTML \n",
    "\n",
    "#Introductory Message\n",
    "print(\"Hi, Welcome to College Cabinet!\")\n",
    "\n",
    "#Function to add ingredients to list to later be added to ingredient_search api\n",
    "def ingredient_list():\n",
    "    ingredient_list = []\n",
    "    while True:\n",
    "        ingredient = input(\"Enter an Ingredient (Type Done When Finished): \").title()\n",
    "        if ingredient in ingredient_list:\n",
    "            ingredient_list.remove(ingredient)\n",
    "            print (\"That Ingredient Was Already Entered!\")\n",
    "        if ingredient == \"Done\":\n",
    "            print(\"Ingredient List: %s\" %(user_list))\n",
    "            break\n",
    "        else:\n",
    "            ingredient_list.append(ingredient)\n",
    "            #print(\"Ingredient List: %s\" %(ingredient_list))\n",
    "        user_list = ','.join(ingredient_list)\n",
    "    return user_list\n",
    "\n",
    "def ingredient_search():\n",
    "    #Ingredient API URL\n",
    "    ingredient_api = 'https://spoonacular-recipe-food-nutrition-v1.p.mashape.com/recipes/findByIngredients'\n",
    "    #Requested Header in Dictionary \n",
    "    headers = {'X-Mashape-Key': '6w62jm09yhmshHLPaVVwcOGSqwX6p1roAENjsn0zxkvvt8RLSi'}\n",
    "\n",
    "    #must convert list into string separated by commas\n",
    "    ingredient = ingredient_list()\n",
    "    options = { 'ingredients' : ingredient, 'fillIngredients': False, 'limitLicense': False, 'number': 5, 'ranking': 1}\n",
    "    response = requests.get(ingredient_api, params = options, headers = headers)\n",
    "    results = response.json()\n",
    "    return Image(url= results[0]['image']), results\n",
    "\n",
    "ingredient_search()  \n",
    "\n",
    "        \n",
    "        \n",
    "        \n",
    "        \n"
   ]
  },
  {
   "cell_type": "code",
   "execution_count": 17,
   "metadata": {
    "collapsed": false
   },
   "outputs": [
    {
     "ename": "TypeError",
     "evalue": "list indices must be integers or slices, not str",
     "output_type": "error",
     "traceback": [
      "\u001b[0;31m---------------------------------------------------------------------------\u001b[0m",
      "\u001b[0;31mTypeError\u001b[0m                                 Traceback (most recent call last)",
      "\u001b[0;32m<ipython-input-17-930db8801453>\u001b[0m in \u001b[0;36m<module>\u001b[0;34m()\u001b[0m\n\u001b[1;32m     14\u001b[0m \u001b[0mresults\u001b[0m \u001b[1;33m=\u001b[0m \u001b[0mresponse\u001b[0m\u001b[1;33m.\u001b[0m\u001b[0mjson\u001b[0m\u001b[1;33m(\u001b[0m\u001b[1;33m)\u001b[0m\u001b[1;33m\u001b[0m\u001b[0m\n\u001b[1;32m     15\u001b[0m \u001b[0mImage\u001b[0m\u001b[1;33m(\u001b[0m\u001b[0murl\u001b[0m\u001b[1;33m=\u001b[0m \u001b[0mresults\u001b[0m\u001b[1;33m[\u001b[0m\u001b[1;36m0\u001b[0m\u001b[1;33m]\u001b[0m\u001b[1;33m[\u001b[0m\u001b[1;34m'image'\u001b[0m\u001b[1;33m]\u001b[0m\u001b[1;33m)\u001b[0m\u001b[1;33m\u001b[0m\u001b[0m\n\u001b[0;32m---> 16\u001b[0;31m \u001b[0mprint\u001b[0m\u001b[1;33m(\u001b[0m\u001b[0mresults\u001b[0m\u001b[1;33m[\u001b[0m\u001b[1;34m'id'\u001b[0m\u001b[1;33m]\u001b[0m\u001b[1;33m)\u001b[0m\u001b[1;33m\u001b[0m\u001b[0m\n\u001b[0m",
      "\u001b[0;31mTypeError\u001b[0m: list indices must be integers or slices, not str"
     ]
    }
   ],
   "source": [
    "import requests\n",
    "import json\n",
    "from IPython.display import Image\n",
    "from IPython.core.display import HTML \n",
    "\n",
    "\n",
    "url = 'https://spoonacular-recipe-food-nutrition-v1.p.mashape.com/recipes/findByIngredients'\n",
    "headers = {'X-Mashape-Key': '6w62jm09yhmshHLPaVVwcOGSqwX6p1roAENjsn0zxkvvt8RLSi'}\n",
    "\n",
    "#must convert list into string separated by commas\n",
    "ingredient = 'apples,flour,sugar'\n",
    "options = { 'ingredients' : ingredient, 'fillIngredients': False, 'limitLicense': False, 'number': 5, 'ranking': 1}\n",
    "response = requests.get(url, params = options, headers = headers)\n",
    "results = response.json()\n",
    "Image(url= results[0]['image'])\n",
    "print(results[0]['id'])"
   ]
  },
  {
   "cell_type": "code",
   "execution_count": null,
   "metadata": {
    "collapsed": true
   },
   "outputs": [],
   "source": []
  }
 ],
 "metadata": {
  "kernelspec": {
   "display_name": "Python 3",
   "language": "python",
   "name": "python3"
  },
  "language_info": {
   "codemirror_mode": {
    "name": "ipython",
    "version": 3
   },
   "file_extension": ".py",
   "mimetype": "text/x-python",
   "name": "python",
   "nbconvert_exporter": "python",
   "pygments_lexer": "ipython3",
   "version": "3.5.2"
  }
 },
 "nbformat": 4,
 "nbformat_minor": 2
}
