{
 "cells": [
  {
   "cell_type": "code",
   "execution_count": 3,
   "metadata": {
    "collapsed": false
   },
   "outputs": [
    {
     "name": "stdout",
     "output_type": "stream",
     "text": [
      "Welcome to College Cabinet! The Program that Makes Finding Recipes Much Easier!\n",
      "Please Enter an Ingredient (Type Done When Finished): eggs\n",
      "Please Enter an Ingredient (Type Done When Finished): flour\n",
      "Please Enter an Ingredient (Type Done When Finished): milk\n",
      "Please Enter an Ingredient (Type Done When Finished): done\n",
      "Ingredient list: Eggs,Flour,Milk \n",
      "\n",
      "Recipe Number: 1\n"
     ]
    },
    {
     "data": {
      "text/html": [
       "<img src=\"https://spoonacular.com/recipeImages/Copycat-Chick-fil-A-Chicken-Nuggets-528333.jpg\"/>"
      ],
      "text/plain": [
       "<IPython.core.display.Image object>"
      ]
     },
     "metadata": {},
     "output_type": "display_data"
    },
    {
     "name": "stdout",
     "output_type": "stream",
     "text": [
      "Recipe Name: Copycat Chick-fil-A Chicken Nuggets \n",
      "Total Ingredients Used: 3 \n",
      "People Who Like This Recipe: 91 \n",
      "\n",
      "Recipe Number: 2\n"
     ]
    },
    {
     "data": {
      "text/html": [
       "<img src=\"https://spoonacular.com/recipeImages/Hot-Dog-Buns-528382.jpg\"/>"
      ],
      "text/plain": [
       "<IPython.core.display.Image object>"
      ]
     },
     "metadata": {},
     "output_type": "display_data"
    },
    {
     "name": "stdout",
     "output_type": "stream",
     "text": [
      "Recipe Name: Hot Dog Buns \n",
      "Total Ingredients Used: 3 \n",
      "People Who Like This Recipe: 3 \n",
      "\n",
      "Recipe Number: 3\n"
     ]
    },
    {
     "data": {
      "text/html": [
       "<img src=\"https://spoonacular.com/recipeImages/Biscoff-Mug-Cake-528484.jpg\"/>"
      ],
      "text/plain": [
       "<IPython.core.display.Image object>"
      ]
     },
     "metadata": {},
     "output_type": "display_data"
    },
    {
     "name": "stdout",
     "output_type": "stream",
     "text": [
      "Recipe Name: Biscoff Mug Cake \n",
      "Total Ingredients Used: 3 \n",
      "People Who Like This Recipe: 88 \n",
      "\n",
      "Recipe Number: 4\n"
     ]
    },
    {
     "data": {
      "text/html": [
       "<img src=\"https://spoonacular.com/recipeImages/Crepes-536231.jpg\"/>"
      ],
      "text/plain": [
       "<IPython.core.display.Image object>"
      ]
     },
     "metadata": {},
     "output_type": "display_data"
    },
    {
     "name": "stdout",
     "output_type": "stream",
     "text": [
      "Recipe Name: Crepes \n",
      "Total Ingredients Used: 3 \n",
      "People Who Like This Recipe: 1 \n",
      "\n",
      "Recipe Number: 5\n"
     ]
    },
    {
     "data": {
      "text/html": [
       "<img src=\"https://spoonacular.com/recipeImages/Simple-Crepes-541216.jpg\"/>"
      ],
      "text/plain": [
       "<IPython.core.display.Image object>"
      ]
     },
     "metadata": {},
     "output_type": "display_data"
    },
    {
     "name": "stdout",
     "output_type": "stream",
     "text": [
      "Recipe Name: Simple Crepes \n",
      "Total Ingredients Used: 3 \n",
      "People Who Like This Recipe: 36 \n",
      "\n",
      "Enter the Recipe Number That Looks Good (We Will Open the Web Page for You!): 1\n",
      "\n",
      " Do you want to save this URL to come back to later? (Yes/No) yes\n",
      "\n",
      " Your delicius recipe was saved for later use in your personal recipe book\n"
     ]
    }
   ],
   "source": [
    "#This is where we will code our final project:\n",
    "import requests\n",
    "import json\n",
    "from IPython.display import Image\n",
    "from IPython.core.display import HTML \n",
    "import webbrowser\n",
    "import csv\n",
    "#import pandas as pd\n",
    "#import numpy as np\n",
    "\n",
    "############################################# Function Junction: #####################################################\n",
    "\n",
    "#Function to add ingredients to list to later be added to ingredient_search api\n",
    "#Ken and Khadija created this function\n",
    "def list_creator():\n",
    "    while True:\n",
    "        ingredient = input(\"Please Enter an Ingredient (Type Done When Finished): \").title()\n",
    "        if ingredient.isnumeric():\n",
    "            print(\"That is a Number, Not an Ingredient!\")\n",
    "        if ingredient == \"Done\":\n",
    "            print(\"Ingredient list: %s\" %(user_list), '\\n')\n",
    "            break\n",
    "        if ingredient not in ingredient_list:\n",
    "            ingredient_list.append(ingredient)\n",
    "        else:\n",
    "            print (\"You've Already Entered That Ingredient? Try Something Else!\")\n",
    "        user_list = ','.join(ingredient_list) #Ediliza figured this part out\n",
    "    return user_list\n",
    "\n",
    "#Function that utilizes Spoonacular API and inputs the user_list into the parameters to return 5 viable recipes\n",
    "def ingredient_search(food):\n",
    "    #Ingredient API URL\n",
    "    ingredient_api = 'https://spoonacular-recipe-food-nutrition-v1.p.mashape.com/recipes/findByIngredients'\n",
    "    #Requested Header in Dictionary \n",
    "    headers = {'X-Mashape-Key': 'sUIlcm4JVhmshGQFOAj40jD7V2Tvp1ihJXYjsn3wodLwFaR5f0'}\n",
    "\n",
    "    ingredient = food\n",
    "    options = { 'ingredients' : ingredient, 'fillIngredients': False, 'limitLicense': False, 'number': 5, 'ranking': 2}\n",
    "    response = requests.get(ingredient_api, params = options, headers = headers)\n",
    "    results = response.json()    \n",
    "    return results\n",
    "\n",
    "def extract_info(recipe_list):\n",
    "    cookbook = []\n",
    "    for item in recipe_list:\n",
    "        cookbook.append({\"title\": item['title'], \"id\":  item['id'], \n",
    "                         'ui': item['usedIngredientCount'], 'likes': item[\"likes\"], 'image': item[\"image\"]})\n",
    "    return cookbook       \n",
    "\n",
    "#User Chooses 1 of 5 Recipes and inputs the ID # in order to get the Recipe Website\n",
    "def recipe_info(id_number):\n",
    "    #Recipe API URL\n",
    "    api = 'https://spoonacular-recipe-food-nutrition-v1.p.mashape.com/recipes/%s/information' % (id_number)\n",
    "    #Requested Header in Dictionary \n",
    "    headers = {'X-Mashape-Key': 'sUIlcm4JVhmshGQFOAj40jD7V2Tvp1ihJXYjsn3wodLwFaR5f0'}\n",
    "    options = {'includeNutrition': False}\n",
    "    response = requests.get(api, params = options, headers = headers)\n",
    "    results = response.json()\n",
    "    return results\n",
    "\n",
    "def extract_url(chosen_recipe):\n",
    "    url = chosen_recipe['sourceUrl']\n",
    "    return webbrowser.open(url)\n",
    "\n",
    "## Khadija\n",
    "def keep_url(chosen_recipe):\n",
    "    url = chosen_recipe['sourceUrl']\n",
    "    return url\n",
    "    \n",
    "##Ediliza \n",
    "def recipe_notebook(coffee):\n",
    "    with open(\"Recipe_File.txt\", \"a\") as myfile:\n",
    "        myfile.write(coffee)\n",
    "        myfile.close \n",
    "    return()\n",
    "\n",
    "##Ediliza and Khadija\n",
    "def user_answer(coffee,cream):\n",
    "    if coffee == 'Yes':\n",
    "        starbucks = '\\n' + cream + '\\n'\n",
    "        print('\\n Your delicius recipe was saved for later use in your personal recipe book')\n",
    "    elif coffee == 'No':\n",
    "        starbucks = \"\\n\"\n",
    "        print(\" \\n Your recipe was not saved!\")\n",
    "    return starbucks\n",
    "\n",
    "\n",
    "\n",
    "#######################################Our Main Program Goes Here: #################################################\n",
    "ingredient_list = []\n",
    "\n",
    "print(\"Welcome to College Cabinet! The Program that Makes Finding Recipes Much Easier!\")\n",
    "\n",
    "cabinet = list_creator()\n",
    "recipes = ingredient_search(cabinet)\n",
    "recipe_book = extract_info(recipes)\n",
    "for index, recipe in enumerate(recipe_book):\n",
    "    print('Recipe Number:', index + 1)\n",
    "    from IPython.core.display import Image, display\n",
    "    display(Image(url=recipe['image']))\n",
    "    print('Recipe Name:', recipe['title'],  \n",
    "          '\\nTotal Ingredients Used:', recipe['ui'], \n",
    "          '\\nPeople Who Like This Recipe:', recipe['likes'], '\\n')\n",
    "\n",
    "#Ken Created the Try Except Statements and Loop\n",
    "while True:\n",
    "    try:\n",
    "        recipe_number = int(input('Enter the Recipe Number That Looks Good (We Will Open the Web Page for You!): ')) - 1\n",
    "        chosen_recipe = recipe_book[int(recipe_number)]\n",
    "        id_number = chosen_recipe['id']\n",
    "        recipe_data = recipe_info(id_number)\n",
    "        final_recipe = extract_url(recipe_data)\n",
    "        ## Ediliza & Khadija created the following \n",
    "        url_link = keep_url(recipe_data)\n",
    "        pollo = input(\"\\n Do you want to save this URL to come back to later? (Yes/No) \").title()\n",
    "        fried = user_answer(pollo,url_link) \n",
    "        recipe_notebook(fried)\n",
    "\n",
    "        break\n",
    "    except ValueError:\n",
    "        print(\"That is Not a Valid Recipe Number!\")\n",
    "    except IndexError:\n",
    "        print(\"That is Not a Valid Recipe Number!\")\n"
   ]
  },
  {
   "cell_type": "code",
   "execution_count": null,
   "metadata": {
    "collapsed": true
   },
   "outputs": [],
   "source": []
  }
 ],
 "metadata": {
  "kernelspec": {
   "display_name": "Python 3",
   "language": "python",
   "name": "python3"
  },
  "language_info": {
   "codemirror_mode": {
    "name": "ipython",
    "version": 3
   },
   "file_extension": ".py",
   "mimetype": "text/x-python",
   "name": "python",
   "nbconvert_exporter": "python",
   "pygments_lexer": "ipython3",
   "version": "3.5.2"
  }
 },
 "nbformat": 4,
 "nbformat_minor": 2
}
