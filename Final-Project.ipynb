{
 "cells": [
  {
   "cell_type": "code",
   "execution_count": null,
   "metadata": {
    "collapsed": true
   },
   "outputs": [],
   "source": [
    "#To Do List:\n",
    "#What does the application have to do?\n",
    "#  1. Request Import (Ingrediants) from User\n",
    "#  2. \n"
   ]
  },
  {
   "cell_type": "code",
   "execution_count": 1,
   "metadata": {
    "collapsed": false,
    "scrolled": true
   },
   "outputs": [
    {
     "name": "stdout",
     "output_type": "stream",
     "text": [
      "Hi, Welcome to College Cabinet!\n",
      "Please Enter an Ingredient (Type Done When Finished): Milk\n",
      "Please Enter an Ingredient (Type Done When Finished): Bread\n",
      "Please Enter an Ingredient (Type Done When Finished): Eggs\n",
      "Please Enter an Ingredient (Type Done When Finished): Butter\n",
      "Please Enter an Ingredient (Type Done When Finished): Done\n",
      "Ingredient List: Milk,Bread,Eggs,Butter\n",
      "('French Toasted Egg In a Hole', 560342, 4, 0, <IPython.core.display.Image object>)\n",
      "Please Enter the ID Number of the Recipe Requested: 560342\n"
     ]
    },
    {
     "data": {
      "text/plain": [
       "True"
      ]
     },
     "execution_count": 1,
     "metadata": {},
     "output_type": "execute_result"
    }
   ],
   "source": [
    "#This is where we will code our final project:\n",
    "import requests\n",
    "import json\n",
    "from IPython.display import Image\n",
    "from IPython.core.display import HTML \n",
    "import webbrowser\n",
    "\n",
    "#Introductory Message\n",
    "\n",
    "\n",
    "#Function to add ingredients to list to later be added to ingredient_search api\n",
    "def list_creator():\n",
    "    while True:\n",
    "        ingredient = input(\"Please Enter an Ingredient (Type Done When Finished): \").title()\n",
    "        if ingredient == \"Done\":\n",
    "            print(\"Ingredient List: %s\" %(user_list))\n",
    "            break\n",
    "        if ingredient not in ingredient_list:\n",
    "            ingredient_list.append(ingredient)\n",
    "        else:\n",
    "            print (\"That Ingredient Was Already Entered!\")\n",
    "        user_list = ','.join(ingredient_list)\n",
    "    return user_list\n",
    "\n",
    "#Function that utilizes Spoonacular API and inputs the user_list into the parameters to return5 viable recipes\n",
    "def ingredient_search(food):\n",
    "    #Ingredient API URL\n",
    "    ingredient_api = 'https://spoonacular-recipe-food-nutrition-v1.p.mashape.com/recipes/findByIngredients'\n",
    "    #Requested Header in Dictionary \n",
    "    headers = {'X-Mashape-Key': '6w62jm09yhmshHLPaVVwcOGSqwX6p1roAENjsn0zxkvvt8RLSi'}\n",
    "\n",
    "    ingredient = food\n",
    "    options = { 'ingredients' : ingredient, 'fillIngredients': False, 'limitLicense': False, 'number': 5, 'ranking': 1}\n",
    "    response = requests.get(ingredient_api, params = options, headers = headers)\n",
    "    results = response.json()    \n",
    "    return results[0]['title'], results[0]['id'], results[0]['usedIngredientCount'], results[0]['missedIngredientCount'], Image(url= results[0]['image'])\n",
    "\n",
    "\n",
    "\n",
    "def recipe_info():\n",
    "    #Ingredient API URL\n",
    "    id_number = input('Please Enter the ID Number of the Recipe Requested: ')\n",
    "    api = 'https://spoonacular-recipe-food-nutrition-v1.p.mashape.com/recipes/%s/information' % (id_number)\n",
    "    #Requested Header in Dictionary \n",
    "    headers = {'X-Mashape-Key': '6w62jm09yhmshHLPaVVwcOGSqwX6p1roAENjsn0zxkvvt8RLSi'}\n",
    "    \n",
    "    options = {'includeNutrition': False}\n",
    "    response = requests.get(api, params = options, headers = headers)\n",
    "    results = response.json()\n",
    "    return  webbrowser.open(results['sourceUrl'])\n",
    "\n",
    "\n",
    "#Our Main Code goes here:\n",
    "ingredient_list = []\n",
    "\n",
    "print(\"Hi, Welcome to College Cabinet!\")\n",
    "\n",
    "cabinet = list_creator()\n",
    "recipes = ingredient_search(cabinet)\n",
    "print(recipes)\n",
    "recipe_info()\n",
    "\n",
    "        \n",
    "        \n",
    "        \n",
    "        \n"
   ]
  },
  {
   "cell_type": "code",
   "execution_count": 45,
   "metadata": {
    "collapsed": true
   },
   "outputs": [],
   "source": [
    "#def recipe_display():\n",
    "#    ingredient_search()\n",
    "#    id_number = results[0]['id']\n",
    "#    title = results[0]['title']\n",
    "#    total_ingredients = results[0]['usedIngredientCount']\n",
    "#    missed_ingredients = results[0]['missedIngredientCount']\n",
    "#    image = Image(url= results[0]['image'])\n",
    "#    return  \n",
    "\n",
    "#print('Recipe Name:',title, '\\n', image, '\\nRecipe ID:', id_number, \n",
    "#                 '\\nTotal Ingredients Used:', total_ingredients, '\\nMissing Ingredients Needed:', missed_ingredients)\n",
    "#print"
   ]
  },
  {
   "cell_type": "code",
   "execution_count": null,
   "metadata": {
    "collapsed": true
   },
   "outputs": [],
   "source": []
  }
 ],
 "metadata": {
  "kernelspec": {
   "display_name": "Python 3",
   "language": "python",
   "name": "python3"
  },
  "language_info": {
   "codemirror_mode": {
    "name": "ipython",
    "version": 3
   },
   "file_extension": ".py",
   "mimetype": "text/x-python",
   "name": "python",
   "nbconvert_exporter": "python",
   "pygments_lexer": "ipython3",
   "version": "3.5.2"
  }
 },
 "nbformat": 4,
 "nbformat_minor": 2
}
