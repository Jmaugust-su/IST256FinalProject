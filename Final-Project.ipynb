{
 "cells": [
  {
   "cell_type": "code",
   "execution_count": null,
   "metadata": {
    "collapsed": true
   },
   "outputs": [],
   "source": [
    "#To Do List:\n",
    "#What does the application have to do?\n",
    "#  1. Request Import (Ingrediants) from User\n",
    "#  2. \n"
   ]
  },
  {
   "cell_type": "code",
   "execution_count": 3,
   "metadata": {
    "collapsed": false,
    "scrolled": false
   },
   "outputs": [
    {
     "name": "stdout",
     "output_type": "stream",
     "text": [
      "Welcome to College Cabinet! The Program that Makes Finding Recipes Much Easier!\n",
      "Please Enter an Ingredient (Type Done When Finished): Egg\n",
      "Please Enter an Ingredient (Type Done When Finished): Egg\n",
      "You've Already Entered That Ingredient? Try Something Else!\n",
      "Please Enter an Ingredient (Type Done When Finished): Cheese\n",
      "Please Enter an Ingredient (Type Done When Finished): Steak\n",
      "Please Enter an Ingredient (Type Done When Finished): Bread\n",
      "Please Enter an Ingredient (Type Done When Finished): Salt\n",
      "Please Enter an Ingredient (Type Done When Finished): Pepper\n",
      "Please Enter an Ingredient (Type Done When Finished): Done\n",
      "Ingredient list: Egg,Cheese,Steak,Bread,Salt,Pepper \n",
      "\n",
      "Recipe Number: 1\n"
     ]
    },
    {
     "data": {
      "text/html": [
       "<img src=\"https://spoonacular.com/recipeImages/avocado_and_egg_sandwich_with_tillamook_cheddar_on_whole_wheat-21725.jpg\"/>"
      ],
      "text/plain": [
       "<IPython.core.display.Image object>"
      ]
     },
     "metadata": {},
     "output_type": "display_data"
    },
    {
     "name": "stdout",
     "output_type": "stream",
     "text": [
      "Recipe Name: Avocado And Egg Sandwich With Tillamook Cheddar On Whole Wheat \n",
      "Total Ingredients Used: 5 \n",
      "People Who Like This Recipe: 23 \n",
      "\n",
      "Recipe Number: 2\n"
     ]
    },
    {
     "data": {
      "text/html": [
       "<img src=\"https://spoonacular.com/recipeImages/Fancy-Scrambled-Eggs-w-Garlic---Herb-Cheese-553697.jpg\"/>"
      ],
      "text/plain": [
       "<IPython.core.display.Image object>"
      ]
     },
     "metadata": {},
     "output_type": "display_data"
    },
    {
     "name": "stdout",
     "output_type": "stream",
     "text": [
      "Recipe Name: Fancy Scrambled Eggs w/Garlic & Herb Cheese \n",
      "Total Ingredients Used: 5 \n",
      "People Who Like This Recipe: 19 \n",
      "\n",
      "Recipe Number: 3\n"
     ]
    },
    {
     "data": {
      "text/html": [
       "<img src=\"https://spoonacular.com/recipeImages/Steak---Onion-Grilled-Cheese-554009.jpg\"/>"
      ],
      "text/plain": [
       "<IPython.core.display.Image object>"
      ]
     },
     "metadata": {},
     "output_type": "display_data"
    },
    {
     "name": "stdout",
     "output_type": "stream",
     "text": [
      "Recipe Name: Steak & Onion Grilled Cheese \n",
      "Total Ingredients Used: 5 \n",
      "People Who Like This Recipe: 5221 \n",
      "\n",
      "Recipe Number: 4\n"
     ]
    },
    {
     "data": {
      "text/html": [
       "<img src=\"https://spoonacular.com/recipeImages/savory-bread-pudding-bites-with-sweet-onion-marinade-2-40129.jpg\"/>"
      ],
      "text/plain": [
       "<IPython.core.display.Image object>"
      ]
     },
     "metadata": {},
     "output_type": "display_data"
    },
    {
     "name": "stdout",
     "output_type": "stream",
     "text": [
      "Recipe Name: Savory Bread Pudding Bites With Sweet Onion Marinade \n",
      "Total Ingredients Used: 5 \n",
      "People Who Like This Recipe: 7 \n",
      "\n",
      "Recipe Number: 5\n"
     ]
    },
    {
     "data": {
      "text/html": [
       "<img src=\"https://spoonacular.com/recipeImages/Stalking-the-Elusive-Cheesesteak-572816.jpg\"/>"
      ],
      "text/plain": [
       "<IPython.core.display.Image object>"
      ]
     },
     "metadata": {},
     "output_type": "display_data"
    },
    {
     "name": "stdout",
     "output_type": "stream",
     "text": [
      "Recipe Name: Stalking the Elusive Cheesesteak \n",
      "Total Ingredients Used: 5 \n",
      "People Who Like This Recipe: 11 \n",
      "\n",
      "Enter The Recipe Number That Looks Good (We Will Open the Web Page for You!): 3\n",
      "Do you want to save this URL to come back to later? (Yes/No) Yes\n"
     ]
    },
    {
     "ename": "AttributeError",
     "evalue": "'_io.TextIOWrapper' object has no attribute 'append'",
     "output_type": "error",
     "traceback": [
      "\u001b[0;31m---------------------------------------------------------------------------\u001b[0m",
      "\u001b[0;31mAttributeError\u001b[0m                            Traceback (most recent call last)",
      "\u001b[0;32m<ipython-input-3-9657edfee0ff>\u001b[0m in \u001b[0;36m<module>\u001b[0;34m()\u001b[0m\n\u001b[1;32m    102\u001b[0m \u001b[1;33m\u001b[0m\u001b[0m\n\u001b[1;32m    103\u001b[0m \u001b[0msave_recipe\u001b[0m\u001b[1;33m=\u001b[0m\u001b[0minput\u001b[0m\u001b[1;33m(\u001b[0m\u001b[1;34m\"Do you want to save this URL to come back to later? (Yes/No) \"\u001b[0m\u001b[1;33m)\u001b[0m\u001b[1;33m.\u001b[0m\u001b[0mtitle\u001b[0m\u001b[1;33m(\u001b[0m\u001b[1;33m)\u001b[0m\u001b[1;33m\u001b[0m\u001b[0m\n\u001b[0;32m--> 104\u001b[0;31m \u001b[0mfile_save\u001b[0m\u001b[1;33m(\u001b[0m\u001b[0mfinal_recipe\u001b[0m\u001b[1;33m)\u001b[0m\u001b[1;33m\u001b[0m\u001b[0m\n\u001b[0m",
      "\u001b[0;32m<ipython-input-3-9657edfee0ff>\u001b[0m in \u001b[0;36mfile_save\u001b[0;34m(recipe_url)\u001b[0m\n\u001b[1;32m     65\u001b[0m     \u001b[0mrecipe_file\u001b[0m \u001b[1;33m=\u001b[0m \u001b[0mopen\u001b[0m\u001b[1;33m(\u001b[0m\u001b[1;34m'Recipe_File.txt'\u001b[0m\u001b[1;33m,\u001b[0m \u001b[1;34m'a'\u001b[0m\u001b[1;33m)\u001b[0m\u001b[1;33m\u001b[0m\u001b[0m\n\u001b[1;32m     66\u001b[0m     \u001b[1;32mif\u001b[0m \u001b[0msave_recipe\u001b[0m \u001b[1;33m==\u001b[0m \u001b[1;34m\"Yes\"\u001b[0m\u001b[1;33m:\u001b[0m\u001b[1;33m\u001b[0m\u001b[0m\n\u001b[0;32m---> 67\u001b[0;31m         \u001b[0mrecipe_file\u001b[0m\u001b[1;33m.\u001b[0m\u001b[0mappend\u001b[0m\u001b[1;33m(\u001b[0m\u001b[1;33m{\u001b[0m\u001b[0mrecipe\u001b[0m\u001b[1;33m[\u001b[0m\u001b[1;34m'title'\u001b[0m\u001b[1;33m]\u001b[0m\u001b[1;33m:\u001b[0m\u001b[0mrecipe_url\u001b[0m\u001b[1;33m}\u001b[0m\u001b[1;33m)\u001b[0m\u001b[1;33m\u001b[0m\u001b[0m\n\u001b[0m\u001b[1;32m     68\u001b[0m         \u001b[0mprint\u001b[0m\u001b[1;33m(\u001b[0m\u001b[1;34m\"We Saved Your Recipe for Later Use\"\u001b[0m\u001b[1;33m)\u001b[0m\u001b[1;33m\u001b[0m\u001b[0m\n\u001b[1;32m     69\u001b[0m     \u001b[1;32melif\u001b[0m \u001b[0msave_recipe\u001b[0m \u001b[1;33m==\u001b[0m \u001b[1;34m'No'\u001b[0m\u001b[1;33m:\u001b[0m\u001b[1;33m\u001b[0m\u001b[0m\n",
      "\u001b[0;31mAttributeError\u001b[0m: '_io.TextIOWrapper' object has no attribute 'append'"
     ]
    }
   ],
   "source": [
    "#This is where we will code our final project:\n",
    "import requests\n",
    "import json\n",
    "from IPython.display import Image\n",
    "from IPython.core.display import HTML \n",
    "import webbrowser\n",
    "\n",
    "\n",
    "############################################# Function Junction: #####################################################\n",
    "\n",
    "#Function to add ingredients to list to later be added to ingredient_search api\n",
    "#Ken and Khadija created this function\n",
    "def list_creator():\n",
    "    while True:\n",
    "        ingredient = input(\"Please Enter an Ingredient (Type Done When Finished): \").title()\n",
    "        if ingredient.isnumeric():\n",
    "            print(\"That is a Number, Not an Ingredient!\")\n",
    "        if ingredient == \"Done\":\n",
    "            print(\"Ingredient list: %s\" %(user_list), '\\n')\n",
    "            break\n",
    "        if ingredient not in ingredient_list:\n",
    "            ingredient_list.append(ingredient)\n",
    "        else:\n",
    "            print (\"You've Already Entered That Ingredient? Try Something Else!\")\n",
    "        user_list = ','.join(ingredient_list) #Ediliza figured this part out\n",
    "    return user_list\n",
    "\n",
    "#Function that utilizes Spoonacular API and inputs the user_list into the parameters to return 5 viable recipes\n",
    "def ingredient_search(food):\n",
    "    #Ingredient API URL\n",
    "    ingredient_api = 'https://spoonacular-recipe-food-nutrition-v1.p.mashape.com/recipes/findByIngredients'\n",
    "    #Requested Header in Dictionary \n",
    "    headers = {'X-Mashape-Key': 'dV3FBPTSHtmsh0Vya3m4zYfOPfKLp18ZHF6jsnxzHcQv7IUZsx'}\n",
    "\n",
    "    ingredient = food\n",
    "    options = { 'ingredients' : ingredient, 'fillIngredients': False, 'limitLicense': False, 'number': 5, 'ranking': 2}\n",
    "    response = requests.get(ingredient_api, params = options, headers = headers)\n",
    "    results = response.json()    \n",
    "    return results\n",
    "\n",
    "def extract_info(recipe_list):\n",
    "    cookbook = []\n",
    "    for item in recipe_list:\n",
    "        cookbook.append({\"title\": item['title'], \"id\":  item['id'], \n",
    "                       'ui': item['usedIngredientCount'], 'likes': item[\"likes\"], 'image': item[\"image\"]})\n",
    "    return cookbook       \n",
    "\n",
    "#User Chooses 1 of 5 Recipes and inputs the ID # in order to get the Recipe Website\n",
    "def recipe_info(id_number):\n",
    "    #Recipe API URL\n",
    "    api = 'https://spoonacular-recipe-food-nutrition-v1.p.mashape.com/recipes/%s/information' % (id_number)\n",
    "    #Requested Header in Dictionary \n",
    "    headers = {'X-Mashape-Key': 'dV3FBPTSHtmsh0Vya3m4zYfOPfKLp18ZHF6jsnxzHcQv7IUZsx'}\n",
    "    \n",
    "    options = {'includeNutrition': False}\n",
    "    response = requests.get(api, params = options, headers = headers)\n",
    "    results = response.json()\n",
    "    return results\n",
    "\n",
    "def extract_url(chosen_recipe):\n",
    "    url = chosen_recipe['sourceUrl']\n",
    "    return webbrowser.open(url)\n",
    "\n",
    "def file_save(recipe_url):\n",
    "    recipe_file = open('Recipe_File.txt', 'a') \n",
    "    if save_recipe == \"Yes\":\n",
    "        recipe_file.append({recipe['title']:recipe_url})\n",
    "        print(\"We Saved Your Recipe for Later Use\")\n",
    "    elif save_recipe == 'No':\n",
    "        print(\"We Did Not Save Your Recipe\")\n",
    "\n",
    "#######################################Our Main Program Goes Here: #################################################\n",
    "ingredient_list = []\n",
    "\n",
    "print(\"Welcome to College Cabinet! The Program that Makes Finding Recipes Much Easier!\")\n",
    "\n",
    "cabinet = list_creator()\n",
    "recipes = ingredient_search(cabinet)\n",
    "recipe_book = extract_info(recipes)\n",
    "for index, recipe in enumerate(recipe_book):\n",
    "    print('Recipe Number:', index + 1)\n",
    "    from IPython.core.display import Image, display\n",
    "    display(Image(url=recipe['image']))\n",
    "    print('Recipe Name:', recipe['title'],  \n",
    "          '\\nTotal Ingredients Used:', recipe['ui'], \n",
    "          '\\nPeople Who Like This Recipe:', recipe['likes'], '\\n')\n",
    "#Ken Created the Try Except Statements and Loop\n",
    "while True:\n",
    "    try:\n",
    "        recipe_number = int(input('Enter The Recipe Number That Looks Good (We Will Open the Web Page for You!): ')) - 1\n",
    "        chosen_recipe = recipe_book[int(recipe_number)]\n",
    "        chosen_recipe\n",
    "        id_number = chosen_recipe['id']\n",
    "        recipe_data = recipe_info(id_number)\n",
    "        final_recipe = extract_url(recipe_data)\n",
    "        final_recipe\n",
    "        break\n",
    "    except ValueError:\n",
    "        print(\"That is Not a Valid Recipe Number!\")\n",
    "    except IndexError:\n",
    "        print(\"That is Not a Valid Recipe Number!\")\n",
    "\n",
    "save_recipe=input(\"Do you want to save this URL to come back to later? (Yes/No) \").title()\n",
    "file_save(final_recipe)\n"
   ]
  },
  {
   "cell_type": "raw",
   "metadata": {},
   "source": []
  },
  {
   "cell_type": "raw",
   "metadata": {
    "collapsed": true
   },
   "source": [
    "\n"
   ]
  }
 ],
 "metadata": {
  "kernelspec": {
   "display_name": "Python 3",
   "language": "python",
   "name": "python3"
  },
  "language_info": {
   "codemirror_mode": {
    "name": "ipython",
    "version": 3
   },
   "file_extension": ".py",
   "mimetype": "text/x-python",
   "name": "python",
   "nbconvert_exporter": "python",
   "pygments_lexer": "ipython3",
   "version": "3.5.2"
  }
 },
 "nbformat": 4,
 "nbformat_minor": 2
}
