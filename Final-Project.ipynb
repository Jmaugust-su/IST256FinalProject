{
 "cells": [
  {
   "cell_type": "code",
   "execution_count": null,
   "metadata": {
    "collapsed": true
   },
   "outputs": [],
   "source": [
    "#To Do List:\n",
    "#What does the application have to do?\n",
    "#  1. Request Import (Ingrediants) from User\n",
    "#  2. \n"
   ]
  },
  {
   "cell_type": "code",
   "execution_count": 4,
   "metadata": {
    "collapsed": false,
    "scrolled": true
   },
   "outputs": [
    {
     "name": "stdout",
     "output_type": "stream",
     "text": [
      "Hi, Welcome to College Cabinet!\n",
      "Please Enter an Ingredient (Type Done When Finished): Milk\n",
      "Please Enter an Ingredient (Type Done When Finished): Cheese\n",
      "Please Enter an Ingredient (Type Done When Finished): Bread\n",
      "Please Enter an Ingredient (Type Done When Finished): Salt\n",
      "Please Enter an Ingredient (Type Done When Finished): Milk\n",
      "That Ingredient Was Already Entered!\n",
      "Please Enter an Ingredient (Type Done When Finished): Butter\n",
      "Please Enter an Ingredient (Type Done When Finished): Eggs\n",
      "Please Enter an Ingredient (Type Done When Finished): Salt\n",
      "That Ingredient Was Already Entered!\n",
      "Please Enter an Ingredient (Type Done When Finished): Done\n",
      "Ingredient List: Milk,Cheese,Bread,Salt,Butter,Eggs\n",
      "[{'id': 524621, 'usedIngredientCount': 6, 'missedIngredientCount': 0, 'likes': 1856, 'imageType': 'jpg', 'title': 'Croque Madame with Crispy Ham', 'image': 'https://spoonacular.com/recipeImages/Croque-Madame-with-Crispy-Ham-524621.jpg'}, {'id': 2010, 'usedIngredientCount': 6, 'missedIngredientCount': 0, 'likes': 5, 'imageType': 'jpg', 'title': 'Lox & Eggs On Rustic Toast Recipe', 'image': 'https://spoonacular.com/recipeImages/lox-eggs-on-rustic-toast-recipe-2-2010.jpg'}, {'id': 79111, 'usedIngredientCount': 6, 'missedIngredientCount': 0, 'likes': 301, 'imageType': 'jpg', 'title': 'Brie Croque Monsieur Sandwiches', 'image': 'https://spoonacular.com/recipeImages/brie-croque-monsieur-sandwiches-2-79111.jpg'}, {'id': 107568, 'usedIngredientCount': 6, 'missedIngredientCount': 0, 'likes': 0, 'imageType': 'jpg', 'title': 'Onion Bake', 'image': 'https://spoonacular.com/recipeImages/onion-bake-2-107568.jpg'}, {'id': 110166, 'usedIngredientCount': 6, 'missedIngredientCount': 0, 'likes': 0, 'imageType': 'jpg', 'title': \"Jane and Michael Stern's Broccoli Casserole\", 'image': 'https://spoonacular.com/recipeImages/jane-and-michael-sterns-broccoli-casserole-2-110166.jpg'}]\n",
      "Please Enter the ID Number of the Recipe Requested: 524621\n"
     ]
    },
    {
     "data": {
      "text/plain": [
       "True"
      ]
     },
     "execution_count": 4,
     "metadata": {},
     "output_type": "execute_result"
    }
   ],
   "source": [
    "#This is where we will code our final project:\n",
    "import requests\n",
    "import json\n",
    "from IPython.display import Image\n",
    "from IPython.core.display import HTML \n",
    "import webbrowser\n",
    "\n",
    "#Introductory Message\n",
    "print(\"Hi, Welcome to College Cabinet!\")\n",
    "\n",
    "#Function to add ingredients to list to later be added to ingredient_search api\n",
    "def list_creator():\n",
    "    ingredient_list = []\n",
    "    while True:\n",
    "        ingredient = input(\"Please Enter an Ingredient (Type Done When Finished): \").title()\n",
    "        if ingredient == \"Done\":\n",
    "            print(\"Ingredient List: %s\" %(user_list))\n",
    "            break\n",
    "        if ingredient not in ingredient_list:\n",
    "            ingredient_list.append(ingredient)\n",
    "        else:\n",
    "            print (\"That Ingredient Was Already Entered!\")\n",
    "        user_list = ','.join(ingredient_list)\n",
    "    return user_list\n",
    "\n",
    "def ingredient_search():\n",
    "    #Ingredient API URL\n",
    "    ingredient_api = 'https://spoonacular-recipe-food-nutrition-v1.p.mashape.com/recipes/findByIngredients'\n",
    "    #Requested Header in Dictionary \n",
    "    headers = {'X-Mashape-Key': '6w62jm09yhmshHLPaVVwcOGSqwX6p1roAENjsn0zxkvvt8RLSi'}\n",
    "\n",
    "    ingredient = list_creator()\n",
    "    options = { 'ingredients' : ingredient, 'fillIngredients': False, 'limitLicense': False, 'number': 5, 'ranking': 1}\n",
    "    response = requests.get(ingredient_api, params = options, headers = headers)\n",
    "    results = response.json()\n",
    "    return results\n",
    "\n",
    "\n",
    "def recipe_info():\n",
    "    #Ingredient API URL\n",
    "    id_number = input('Please Enter the ID Number of the Recipe Requested: ')\n",
    "    api = 'https://spoonacular-recipe-food-nutrition-v1.p.mashape.com/recipes/%s/information' % (id_number)\n",
    "    #Requested Header in Dictionary \n",
    "    headers = {'X-Mashape-Key': '6w62jm09yhmshHLPaVVwcOGSqwX6p1roAENjsn0zxkvvt8RLSi'}\n",
    "    \n",
    "    options = {'includeNutrition': False}\n",
    "    response = requests.get(api, params = options, headers = headers)\n",
    "    results = response.json()\n",
    "    return  webbrowser.open(results['sourceUrl'])\n",
    "\n",
    "\n",
    "\n",
    "\n",
    "print(ingredient_search())\n",
    "recipe_info()\n",
    "\n",
    "        \n",
    "        \n",
    "        \n",
    "        \n"
   ]
  },
  {
   "cell_type": "code",
   "execution_count": null,
   "metadata": {
    "collapsed": true
   },
   "outputs": [],
   "source": [
    "Image(url= results[0]['image']),"
   ]
  }
 ],
 "metadata": {
  "kernelspec": {
   "display_name": "Python 3",
   "language": "python",
   "name": "python3"
  },
  "language_info": {
   "codemirror_mode": {
    "name": "ipython",
    "version": 3
   },
   "file_extension": ".py",
   "mimetype": "text/x-python",
   "name": "python",
   "nbconvert_exporter": "python",
   "pygments_lexer": "ipython3",
   "version": "3.5.2"
  }
 },
 "nbformat": 4,
 "nbformat_minor": 2
}
