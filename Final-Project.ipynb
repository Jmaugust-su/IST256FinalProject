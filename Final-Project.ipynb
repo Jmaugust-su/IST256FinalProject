{
 "cells": [
  {
   "cell_type": "code",
   "execution_count": null,
   "metadata": {
    "collapsed": true
   },
   "outputs": [],
   "source": [
    "#To Do List:\n",
    "#What does the application have to do?\n",
    "#  1. Request Import (Ingrediants) from User\n",
    "#  2. \n"
   ]
  },
  {
   "cell_type": "code",
   "execution_count": 3,
   "metadata": {
    "collapsed": false,
    "scrolled": true
   },
   "outputs": [
    {
     "name": "stdout",
     "output_type": "stream",
     "text": [
      "Hi, Welcome to College Cabinet!\n",
      "Please Enter an Ingredient (Type Done When Finished): Eggs\n",
      "Please Enter an Ingredient (Type Done When Finished): Milk\n",
      "Please Enter an Ingredient (Type Done When Finished): Butter\n",
      "Please Enter an Ingredient (Type Done When Finished): Cream\n",
      "Please Enter an Ingredient (Type Done When Finished): Done\n",
      "Ingredient List: Eggs,Milk,Butter,Cream\n",
      "[{'likes': 0, 'title': 'Deluxe Mini Mac & Cheese', 'imageType': 'jpg', 'usedIngredientCount': 4, 'missedIngredientCount': 1, 'image': 'https://spoonacular.com/recipeImages/deluxe-mini-mac-cheese-271941.jpg', 'id': 271941}, {'likes': 0, 'title': 'Caramel-Croissant Pudding', 'imageType': 'jpg', 'usedIngredientCount': 4, 'missedIngredientCount': 1, 'image': 'https://spoonacular.com/recipeImages/caramel-croissant-pudding-272041.jpg', 'id': 272041}, {'likes': 2085, 'title': 'Cream Puffs', 'imageType': 'jpg', 'usedIngredientCount': 4, 'missedIngredientCount': 1, 'image': 'https://spoonacular.com/recipeImages/Cream-Puffs-306974.jpg', 'id': 306974}, {'likes': 0, 'title': 'Classic Louisville Hot Brown Sandwich', 'imageType': 'jpg', 'usedIngredientCount': 4, 'missedIngredientCount': 1, 'image': 'https://spoonacular.com/recipeImages/classic-louisville-hot-brown-sandwich-839909.jpg', 'id': 839909}, {'likes': 31, 'title': 'Anything-but-clementine Clafoutis', 'imageType': 'jpg', 'usedIngredientCount': 4, 'missedIngredientCount': 1, 'image': 'https://spoonacular.com/recipeImages/anything-but-clementine_clafoutis-53529.jpg', 'id': 53529}]\n",
      "Please Enter the ID Number of the Recipe Requested: 271941\n"
     ]
    },
    {
     "data": {
      "text/plain": [
       "True"
      ]
     },
     "execution_count": 3,
     "metadata": {},
     "output_type": "execute_result"
    }
   ],
   "source": [
    "#This is where we will code our final project:\n",
    "import requests\n",
    "import json\n",
    "from IPython.display import Image\n",
    "from IPython.core.display import HTML \n",
    "import webbrowser\n",
    "\n",
    "#Introductory Message\n",
    "print(\"Hi, Welcome to College Cabinet!\")\n",
    "\n",
    "#Function to add ingredients to list to later be added to ingredient_search api\n",
    "def ingredient_list():\n",
    "    ingredient_list = []\n",
    "    while True:\n",
    "        ingredient = input(\"Please Enter an Ingredient (Type Done When Finished): \").title()\n",
    "        if ingredient in ingredient_list:\n",
    "            ingredient_list.remove(ingredient)\n",
    "            print (\"That Ingredient Was Already Entered!\")\n",
    "        if ingredient == \"Done\":\n",
    "            print(\"Ingredient List: %s\" %(user_list))\n",
    "            break\n",
    "        else:\n",
    "            ingredient_list.append(ingredient)\n",
    "            #print(\"Ingredient List: %s\" %(ingredient_list))\n",
    "        user_list = ','.join(ingredient_list)\n",
    "    return user_list\n",
    "\n",
    "def ingredient_search():\n",
    "    #Ingredient API URL\n",
    "    ingredient_api = 'https://spoonacular-recipe-food-nutrition-v1.p.mashape.com/recipes/findByIngredients'\n",
    "    #Requested Header in Dictionary \n",
    "    headers = {'X-Mashape-Key': '6w62jm09yhmshHLPaVVwcOGSqwX6p1roAENjsn0zxkvvt8RLSi'}\n",
    "\n",
    "    ingredient = ingredient_list()\n",
    "    options = { 'ingredients' : ingredient, 'fillIngredients': False, 'limitLicense': False, 'number': 5, 'ranking': 1}\n",
    "    response = requests.get(ingredient_api, params = options, headers = headers)\n",
    "    results = response.json()\n",
    "    return results\n",
    "\n",
    "\n",
    "def recipe_info():\n",
    "    #Ingredient API URL\n",
    "    id_number = input('Please Enter the ID Number of the Recipe Requested: ')\n",
    "    api = 'https://spoonacular-recipe-food-nutrition-v1.p.mashape.com/recipes/%s/information' % (id_number)\n",
    "    #Requested Header in Dictionary \n",
    "    headers = {'X-Mashape-Key': '6w62jm09yhmshHLPaVVwcOGSqwX6p1roAENjsn0zxkvvt8RLSi'}\n",
    "    \n",
    "    options = {'includeNutrition': False}\n",
    "    response = requests.get(api, params = options, headers = headers)\n",
    "    results = response.json()\n",
    "    return  webbrowser.open(results['sourceUrl'])\n",
    "\n",
    "\n",
    "\n",
    "\n",
    "\n",
    "print(ingredient_search())\n",
    "recipe_info()\n",
    "\n",
    "        \n",
    "        \n",
    "        \n",
    "        \n"
   ]
  },
  {
   "cell_type": "code",
   "execution_count": null,
   "metadata": {
    "collapsed": true
   },
   "outputs": [],
   "source": [
    "Image(url= results[0]['image']),"
   ]
  }
 ],
 "metadata": {
  "kernelspec": {
   "display_name": "Python 3",
   "language": "python",
   "name": "python3"
  }
 },
 "nbformat": 4,
 "nbformat_minor": 2
}
