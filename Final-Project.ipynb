{
 "cells": [
  {
   "cell_type": "code",
   "execution_count": null,
   "metadata": {
    "collapsed": true
   },
   "outputs": [],
   "source": [
    "#To Do List:\n",
    "#What does the application have to do?\n",
    "#  1. Request Import (Ingrediants) from User\n",
    "#  2. \n"
   ]
  },
  {
   "cell_type": "code",
   "execution_count": 40,
   "metadata": {
    "collapsed": false,
    "scrolled": true
   },
   "outputs": [
    {
     "name": "stdout",
     "output_type": "stream",
     "text": [
      "Hi, Welcome to College Cabinet!\n",
      "Please Enter an Ingredient (Type Done When Finished): Milk\n",
      "Please Enter an Ingredient (Type Done When Finished): done\n",
      "Ingredient List: Milk\n"
     ]
    },
    {
     "data": {
      "text/plain": [
       "[{'id': 156767,\n",
       "  'image': 'https://spoonacular.com/recipeImages/fried-chicken-with-gravy-156767.jpg',\n",
       "  'imageType': 'jpg',\n",
       "  'likes': 0,\n",
       "  'missedIngredientCount': 1,\n",
       "  'title': 'Fried Chicken with Gravy',\n",
       "  'usedIngredientCount': 1},\n",
       " {'id': 174912,\n",
       "  'image': 'https://spoonacular.com/recipeImages/engagement-ring-mini-cupcakes-174912.jpg',\n",
       "  'imageType': 'jpg',\n",
       "  'likes': 0,\n",
       "  'missedIngredientCount': 1,\n",
       "  'title': 'Engagement Ring Mini Cupcakes',\n",
       "  'usedIngredientCount': 1},\n",
       " {'id': 863220,\n",
       "  'image': 'https://spoonacular.com/recipeImages/wholesome-carrot-muffins-863220.jpg',\n",
       "  'imageType': 'jpg',\n",
       "  'likes': 0,\n",
       "  'missedIngredientCount': 1,\n",
       "  'title': 'Wholesome Carrot Muffins',\n",
       "  'usedIngredientCount': 1},\n",
       " {'id': 870560,\n",
       "  'image': 'https://spoonacular.com/recipeImages/clean-eating-irish-soda-bread-870560.jpg',\n",
       "  'imageType': 'jpg',\n",
       "  'likes': 0,\n",
       "  'missedIngredientCount': 1,\n",
       "  'title': 'Clean Eating Irish Soda Bread',\n",
       "  'usedIngredientCount': 1},\n",
       " {'id': 216387,\n",
       "  'image': 'https://spoonacular.com/recipeImages/bchamel-sauce-216387.jpg',\n",
       "  'imageType': 'jpg',\n",
       "  'likes': 0,\n",
       "  'missedIngredientCount': 1,\n",
       "  'title': 'Béchamel Sauce',\n",
       "  'usedIngredientCount': 1}]"
      ]
     },
     "execution_count": 40,
     "metadata": {},
     "output_type": "execute_result"
    }
   ],
   "source": [
    "#This is where we will code our final project:\n",
    "import requests\n",
    "import json\n",
    "from IPython.display import Image\n",
    "from IPython.core.display import HTML \n",
    "import webbrowser\n",
    "\n",
    "#Introductory Message\n",
    "print(\"Hi, Welcome to College Cabinet!\")\n",
    "\n",
    "#Function to add ingredients to list to later be added to ingredient_search api\n",
    "def list_creator():\n",
    "    ingredient_list = []\n",
    "    while True:\n",
    "        ingredient = input(\"Please Enter an Ingredient (Type Done When Finished): \").title()\n",
    "        if ingredient == \"Done\":\n",
    "            print(\"Ingredient List: %s\" %(user_list))\n",
    "            break\n",
    "        if ingredient not in ingredient_list:\n",
    "            ingredient_list.append(ingredient)\n",
    "        else:\n",
    "            print (\"That Ingredient Was Already Entered!\")\n",
    "        user_list = ','.join(ingredient_list)\n",
    "    return user_list\n",
    "\n",
    "def ingredient_search():\n",
    "    #Ingredient API URL\n",
    "    ingredient_api = 'https://spoonacular-recipe-food-nutrition-v1.p.mashape.com/recipes/findByIngredients'\n",
    "    #Requested Header in Dictionary \n",
    "    headers = {'X-Mashape-Key': '6w62jm09yhmshHLPaVVwcOGSqwX6p1roAENjsn0zxkvvt8RLSi'}\n",
    "\n",
    "    ingredient = list_creator()\n",
    "    options = { 'ingredients' : ingredient, 'fillIngredients': False, 'limitLicense': False, 'number': 5, 'ranking': 1}\n",
    "    response = requests.get(ingredient_api, params = options, headers = headers)\n",
    "    results = response.json()    \n",
    "    return results\n",
    "\n",
    "#def recipe_display():\n",
    "#    ingredient_search()\n",
    "#    id_number = results[0]['id']\n",
    "#    title = results[0]['title']\n",
    "#    total_ingredients = results[0]['usedIngredientCount']\n",
    "#    missed_ingredients = results[0]['missedIngredientCount']\n",
    "#    image = Image(url= results[0]['image'])\n",
    "#    return  \n",
    "\n",
    "def recipe_info():\n",
    "    #Ingredient API URL\n",
    "    id_number = input('Please Enter the ID Number of the Recipe Requested: ')\n",
    "    api = 'https://spoonacular-recipe-food-nutrition-v1.p.mashape.com/recipes/%s/information' % (id_number)\n",
    "    #Requested Header in Dictionary \n",
    "    headers = {'X-Mashape-Key': '6w62jm09yhmshHLPaVVwcOGSqwX6p1roAENjsn0zxkvvt8RLSi'}\n",
    "    \n",
    "    options = {'includeNutrition': False}\n",
    "    response = requests.get(api, params = options, headers = headers)\n",
    "    results = response.json()\n",
    "    return  webbrowser.open(results['sourceUrl'])\n",
    "\n",
    "\n",
    "\n",
    "ingredient_search()\n",
    "#print('Recipe Name:',title, '\\n', image, '\\nRecipe ID:', id_number, \n",
    "#                 '\\nTotal Ingredients Used:', total_ingredients, '\\nMissing Ingredients Needed:', missed_ingredients)\n",
    "#print\n",
    "#recipe_info()\n",
    "\n",
    "        \n",
    "        \n",
    "        \n",
    "        \n"
   ]
  },
  {
   "cell_type": "code",
   "execution_count": 13,
   "metadata": {
    "collapsed": false
   },
   "outputs": [
    {
     "ename": "NameError",
     "evalue": "name 'results' is not defined",
     "output_type": "error",
     "traceback": [
      "\u001b[0;31m---------------------------------------------------------------------------\u001b[0m",
      "\u001b[0;31mNameError\u001b[0m                                 Traceback (most recent call last)",
      "\u001b[0;32m<ipython-input-13-fe94ff0fac91>\u001b[0m in \u001b[0;36m<module>\u001b[0;34m()\u001b[0m\n\u001b[0;32m----> 1\u001b[0;31m \u001b[0mImage\u001b[0m\u001b[1;33m(\u001b[0m\u001b[0murl\u001b[0m\u001b[1;33m=\u001b[0m \u001b[0mresults\u001b[0m\u001b[1;33m[\u001b[0m\u001b[1;36m0\u001b[0m\u001b[1;33m]\u001b[0m\u001b[1;33m[\u001b[0m\u001b[1;34m'image'\u001b[0m\u001b[1;33m]\u001b[0m\u001b[1;33m)\u001b[0m\u001b[1;33m,\u001b[0m\u001b[1;33m\u001b[0m\u001b[0m\n\u001b[0m",
      "\u001b[0;31mNameError\u001b[0m: name 'results' is not defined"
     ]
    }
   ],
   "source": []
  },
  {
   "cell_type": "code",
   "execution_count": null,
   "metadata": {
    "collapsed": true
   },
   "outputs": [],
   "source": []
  }
 ],
 "metadata": {
  "kernelspec": {
   "display_name": "Python 3",
   "language": "python",
   "name": "python3"
  },
  "language_info": {
   "codemirror_mode": {
    "name": "ipython",
    "version": 3
   },
   "file_extension": ".py",
   "mimetype": "text/x-python",
   "name": "python",
   "nbconvert_exporter": "python",
   "pygments_lexer": "ipython3",
   "version": "3.5.2"
  }
 },
 "nbformat": 4,
 "nbformat_minor": 2
}
