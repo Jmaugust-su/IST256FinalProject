{
 "cells": [
  {
   "cell_type": "code",
   "execution_count": null,
   "metadata": {
    "collapsed": true
   },
   "outputs": [],
   "source": [
    "#To Do List:\n",
    "#What does the application have to do?\n",
    "#  1. Request Import (Ingrediants) from User\n",
    "#  2. \n"
   ]
  },
  {
   "cell_type": "code",
   "execution_count": 24,
   "metadata": {
    "collapsed": false,
    "scrolled": true
   },
   "outputs": [
    {
     "name": "stdout",
     "output_type": "stream",
     "text": [
      "Hi, Welcome to College Cabinet!\n",
      "Please Enter an Ingredient (Type Done When Finished): Milk\n",
      "Please Enter an Ingredient (Type Done When Finished): Done\n",
      "Ingredient List: Milk\n"
     ]
    },
    {
     "ename": "TypeError",
     "evalue": "append() takes no keyword arguments",
     "output_type": "error",
     "traceback": [
      "\u001b[0;31m---------------------------------------------------------------------------\u001b[0m",
      "\u001b[0;31mTypeError\u001b[0m                                 Traceback (most recent call last)",
      "\u001b[0;32m<ipython-input-24-75b3b53ef5e7>\u001b[0m in \u001b[0;36m<module>\u001b[0;34m()\u001b[0m\n\u001b[1;32m     67\u001b[0m \u001b[0mcabinet\u001b[0m \u001b[1;33m=\u001b[0m \u001b[0mlist_creator\u001b[0m\u001b[1;33m(\u001b[0m\u001b[1;33m)\u001b[0m\u001b[1;33m\u001b[0m\u001b[0m\n\u001b[1;32m     68\u001b[0m \u001b[0mrecipes\u001b[0m \u001b[1;33m=\u001b[0m \u001b[0mingredient_search\u001b[0m\u001b[1;33m(\u001b[0m\u001b[0mcabinet\u001b[0m\u001b[1;33m)\u001b[0m\u001b[1;33m\u001b[0m\u001b[0m\n\u001b[0;32m---> 69\u001b[0;31m \u001b[0mextract_info\u001b[0m\u001b[1;33m(\u001b[0m\u001b[0mrecipes\u001b[0m\u001b[1;33m)\u001b[0m\u001b[1;33m\u001b[0m\u001b[0m\n\u001b[0m\u001b[1;32m     70\u001b[0m \u001b[1;33m\u001b[0m\u001b[0m\n\u001b[1;32m     71\u001b[0m \u001b[1;31m#print('Recipe Name:', recipes[0],\u001b[0m\u001b[1;33m\u001b[0m\u001b[1;33m\u001b[0m\u001b[0m\n",
      "\u001b[0;32m<ipython-input-24-75b3b53ef5e7>\u001b[0m in \u001b[0;36mextract_info\u001b[0;34m(recipe_list)\u001b[0m\n\u001b[1;32m     40\u001b[0m     \u001b[1;32mfor\u001b[0m \u001b[0mitem\u001b[0m \u001b[1;32min\u001b[0m \u001b[0mrecipe_list\u001b[0m\u001b[1;33m:\u001b[0m\u001b[1;33m\u001b[0m\u001b[0m\n\u001b[1;32m     41\u001b[0m         cookbook.append(recipe_dict = {\"title\": item['title'], \"id\":  item['id'], \n\u001b[0;32m---> 42\u001b[0;31m                        'ui': item['usedIngredientCount'], 'mi': item['missedIngredientCount']})\n\u001b[0m\u001b[1;32m     43\u001b[0m     \u001b[1;32mreturn\u001b[0m \u001b[0mcookbook\u001b[0m\u001b[1;33m\u001b[0m\u001b[0m\n\u001b[1;32m     44\u001b[0m \u001b[1;33m\u001b[0m\u001b[0m\n",
      "\u001b[0;31mTypeError\u001b[0m: append() takes no keyword arguments"
     ]
    }
   ],
   "source": [
    "#This is where we will code our final project:\n",
    "import requests\n",
    "import json\n",
    "from IPython.display import Image\n",
    "from IPython.core.display import HTML \n",
    "import webbrowser\n",
    "\n",
    "\n",
    "############################################# Function Junction: #####################################################\n",
    "\n",
    "#Function to add ingredients to list to later be added to ingredient_search api\n",
    "def list_creator():\n",
    "    while True:\n",
    "        ingredient = input(\"Please Enter an Ingredient (Type Done When Finished): \").title()\n",
    "        if ingredient == \"Done\":\n",
    "            print(\"Ingredient List: %s\" %(user_list))\n",
    "            break\n",
    "        if ingredient not in ingredient_list:\n",
    "            ingredient_list.append(ingredient)\n",
    "        else:\n",
    "            print (\"That Ingredient Was Already Entered!\")\n",
    "        user_list = ','.join(ingredient_list)\n",
    "    return user_list\n",
    "\n",
    "#Function that utilizes Spoonacular API and inputs the user_list into the parameters to return 5 viable recipes\n",
    "def ingredient_search(food):\n",
    "    #Ingredient API URL\n",
    "    ingredient_api = 'https://spoonacular-recipe-food-nutrition-v1.p.mashape.com/recipes/findByIngredients'\n",
    "    #Requested Header in Dictionary \n",
    "    headers = {'X-Mashape-Key': '6w62jm09yhmshHLPaVVwcOGSqwX6p1roAENjsn0zxkvvt8RLSi'}\n",
    "\n",
    "    ingredient = food\n",
    "    options = { 'ingredients' : ingredient, 'fillIngredients': False, 'limitLicense': False, 'number': 5, 'ranking': 1}\n",
    "    response = requests.get(ingredient_api, params = options, headers = headers)\n",
    "    results = response.json()    \n",
    "    return results\n",
    "\n",
    "def extract_info(recipe_list):\n",
    "    cookbook = []\n",
    "    for item in recipe_list:\n",
    "        cookbook.append(recipe_dict = {\"title\": item['title'], \"id\":  item['id'], \n",
    "                       'ui': item['usedIngredientCount'], 'mi': item['missedIngredientCount']})\n",
    "    return cookbook\n",
    "    \n",
    "        \n",
    "        \n",
    "\n",
    "#User Chooses 1 of 5 Recipes and inputs the ID # in order to get the Recipe Website\n",
    "def recipe_info():\n",
    "    #Recipe API URL\n",
    "    id_number = input('Please Enter the ID Number of the Recipe Requested: ')\n",
    "    api = 'https://spoonacular-recipe-food-nutrition-v1.p.mashape.com/recipes/%s/information' % (id_number)\n",
    "    #Requested Header in Dictionary \n",
    "    headers = {'X-Mashape-Key': '6w62jm09yhmshHLPaVVwcOGSqwX6p1roAENjsn0zxkvvt8RLSi'}\n",
    "    \n",
    "    options = {'includeNutrition': False}\n",
    "    response = requests.get(api, params = options, headers = headers)\n",
    "    results = response.json()\n",
    "    return  results, webbrowser.open(results['sourceUrl'])\n",
    "\n",
    "\n",
    "#######################################Our Main Program Goes Here: #################################################\n",
    "ingredient_list = []\n",
    "\n",
    "print(\"Hi, Welcome to College Cabinet!\")\n",
    "\n",
    "cabinet = list_creator()\n",
    "recipes = ingredient_search(cabinet)\n",
    "extract_info(recipes)\n",
    "\n",
    "#print('Recipe Name:', recipes[0], \n",
    "#      '\\n', recipes[4], \n",
    "#      '\\nRecipe ID:', recipes[1], \n",
    "#      '\\nTotal Ingredients Used:', recipes [2], \n",
    "#      '\\nMissing Ingredients Needed:', recipes[3])\n",
    "#recipe_info()\n",
    "\n",
    "        \n",
    "        \n",
    "        \n",
    "        \n"
   ]
  },
  {
   "cell_type": "code",
   "execution_count": null,
   "metadata": {
    "collapsed": true
   },
   "outputs": [],
   "source": [
    "#def write_csv(filename, RecipesList):\n",
    "    # take dictionaries and create a csv\n",
    "#    with open(filename, 'w', newline='') as csvfile:\n",
    "#        fieldnames = ['name', 'title', 'email']\n",
    "#        writer = csv.DictWriter(csvfile, fieldnames=fieldnames)\n",
    "#        writer.writeheader()\n",
    "#        for Recipe in RecipesList:\n",
    "#            writer.writerow(Recipe)\n",
    "#    return \"success\"\n",
    "\n"
   ]
  }
 ],
 "metadata": {
  "kernelspec": {
   "display_name": "Python 3",
   "language": "python",
   "name": "python3"
  },
  "language_info": {
   "codemirror_mode": {
    "name": "ipython",
    "version": 3
   },
   "file_extension": ".py",
   "mimetype": "text/x-python",
   "name": "python",
   "nbconvert_exporter": "python",
   "pygments_lexer": "ipython3",
   "version": "3.5.2"
  }
 },
 "nbformat": 4,
 "nbformat_minor": 2
}
