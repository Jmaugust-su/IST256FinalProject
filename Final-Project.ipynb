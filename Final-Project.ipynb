{
 "cells": [
  {
   "cell_type": "code",
   "execution_count": null,
   "metadata": {
    "collapsed": true
   },
   "outputs": [],
   "source": [
    "#To Do List:\n",
    "#What does the application have to do?\n",
    "#  1. Request Import (Ingrediants) from User\n",
    "#  2. \n"
   ]
  },
  {
   "cell_type": "code",
   "execution_count": 2,
   "metadata": {
    "collapsed": false,
    "scrolled": true
   },
   "outputs": [
    {
     "name": "stdout",
     "output_type": "stream",
     "text": [
      "Hi, Welcome to College Cabinet!\n",
      "Enter an ingredient (Type Done When Finished): Bread\n",
      "Ingredient List: ['Bread']\n",
      "Enter an ingredient (Type Done When Finished): Milk\n",
      "Ingredient List: ['Bread', 'Milk']\n",
      "Enter an ingredient (Type Done When Finished): Cheese\n",
      "Ingredient List: ['Bread', 'Milk', 'Cheese']\n",
      "Enter an ingredient (Type Done When Finished): Salt\n",
      "Ingredient List: ['Bread', 'Milk', 'Cheese', 'Salt']\n",
      "Enter an ingredient (Type Done When Finished): Done\n",
      "Ingredient List: ['Bread', 'Milk', 'Cheese', 'Salt']\n"
     ]
    }
   ],
   "source": [
    "#This is where we will code our final project:\n",
    "\n",
    "\n",
    "# prompts for a new item then adds it to the shopping list\n",
    "# input: ingredient list\n",
    "# output: ingredient list\n",
    "def add_item(ingredient_list):\n",
    "    #todo write code here\n",
    "    ingredient_list.append(ingredient)\n",
    "    return ingredient_list\n",
    "\n",
    "\n",
    "print(\"Hi, Welcome to College Cabinet!\")\n",
    "ingredient_list = []\n",
    "while True:\n",
    "    ingredient = input(\"Enter an ingredient (Type Done When Finished): \").title()\n",
    "    if ingredient == \"Done\":\n",
    "        print(\"Ingredient List: %s\" %(ingredient_list))\n",
    "        break\n",
    "    else:\n",
    "        ingredient_list = add_item(ingredient_list)\n",
    "        print(\"Ingredient List: %s\" %(ingredient_list))\n",
    "\n",
    "        \n",
    "        \n",
    "        \n",
    "        \n"
   ]
  },
  {
   "cell_type": "code",
   "execution_count": 8,
   "metadata": {
    "collapsed": false
   },
   "outputs": [
    {
     "data": {
      "text/html": [
       "<img src=\"https://spoonacular.com/recipeImages/Brown-Butter-Apple-Crumble-534573.jpg\"/>"
      ],
      "text/plain": [
       "<IPython.core.display.Image object>"
      ]
     },
     "execution_count": 8,
     "metadata": {},
     "output_type": "execute_result"
    }
   ],
   "source": [
    "import requests\n",
    "from IPython.display import Image\n",
    "from IPython.core.display import HTML \n",
    "\n",
    "\n",
    "url = 'https://spoonacular-recipe-food-nutrition-v1.p.mashape.com/recipes/findByIngredients'\n",
    "headers = {'X-Mashape-Key': '6w62jm09yhmshHLPaVVwcOGSqwX6p1roAENjsn0zxkvvt8RLSi'}\n",
    "\n",
    "#must convert list into string separated by commas\n",
    "ingredient = 'apples,flour,sugar'\n",
    "options = { 'ingredients' : ingredient, 'fillIngredients': False, 'limitLicense': False, 'number': 5, 'ranking': 1}\n",
    "response = requests.get(url, params = options, headers = headers)\n",
    "results = response.json()\n",
    "Image(url= results[0]['image'])\n",
    "print(results[])"
   ]
  },
  {
   "cell_type": "code",
   "execution_count": null,
   "metadata": {
    "collapsed": true
   },
   "outputs": [],
   "source": []
  }
 ],
 "metadata": {
  "kernelspec": {
   "display_name": "Python 3",
   "language": "python",
   "name": "python3"
  },
  "language_info": {
   "codemirror_mode": {
    "name": "ipython",
    "version": 3
   },
   "file_extension": ".py",
   "mimetype": "text/x-python",
   "name": "python",
   "nbconvert_exporter": "python",
   "pygments_lexer": "ipython3",
   "version": "3.5.2"
  }
 },
 "nbformat": 4,
 "nbformat_minor": 2
}
